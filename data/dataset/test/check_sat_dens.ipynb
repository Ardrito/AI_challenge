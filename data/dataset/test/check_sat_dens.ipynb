{
 "cells": [
  {
   "cell_type": "code",
   "execution_count": 2,
   "metadata": {},
   "outputs": [],
   "source": [
    "import matplotlib.pyplot as plt\n",
    "import numpy as np\n",
    "import pandas as pd\n",
    "import os"
   ]
  },
  {
   "cell_type": "code",
   "execution_count": 28,
   "metadata": {},
   "outputs": [
    {
     "name": "stdout",
     "output_type": "stream",
     "text": [
      "8119\n"
     ]
    }
   ],
   "source": [
    "shapes_DENS = {}\n",
    "for sybdir, dir, files in os.walk('sat_density/'):\n",
    "    print (len(files))\n",
    "    for file in files:\n",
    "        shape = (pd.read_csv('sat_density/'+str(file)).shape)\n",
    "        if shape not in shapes_DENS:\n",
    "            shapes_DENS[shape] = 1\n",
    "        else:\n",
    "            shapes_DENS[shape] += 1"
   ]
  },
  {
   "cell_type": "code",
   "execution_count": 27,
   "metadata": {},
   "outputs": [
    {
     "data": {
      "text/plain": [
       "85"
      ]
     },
     "execution_count": 27,
     "metadata": {},
     "output_type": "execute_result"
    }
   ],
   "source": [
    "shapes_DENS\n",
    "len(shapes_DENS)"
   ]
  },
  {
   "cell_type": "code",
   "execution_count": 29,
   "metadata": {},
   "outputs": [
    {
     "name": "stdout",
     "output_type": "stream",
     "text": [
      "8119\n"
     ]
    }
   ],
   "source": [
    "shapes_OMNI = {}\n",
    "for sybdir, dir, files in os.walk('omni2/'):\n",
    "    print (len(files))\n",
    "    for file in files:\n",
    "        shape = (pd.read_csv('omni2/'+str(file)).shape)\n",
    "        if shape not in shapes_OMNI:\n",
    "            shapes_OMNI[shape] = 1\n",
    "        else:\n",
    "            shapes_OMNI[shape] += 1"
   ]
  },
  {
   "cell_type": "code",
   "execution_count": 16,
   "metadata": {},
   "outputs": [
    {
     "data": {
      "text/plain": [
       "{(1440, 58): 6672, (1441, 58): 1447}"
      ]
     },
     "execution_count": 16,
     "metadata": {},
     "output_type": "execute_result"
    }
   ],
   "source": [
    "shapes_OMNI"
   ]
  },
  {
   "cell_type": "code",
   "execution_count": 31,
   "metadata": {},
   "outputs": [
    {
     "name": "stdout",
     "output_type": "stream",
     "text": [
      "8119\n"
     ]
    }
   ],
   "source": [
    "shapes_GOES = {}\n",
    "for sybdir, dir, files in os.walk('goes/'):\n",
    "    print (len(files))\n",
    "    for file in files:\n",
    "        shape = (pd.read_csv('goes/'+str(file)).shape)\n",
    "        if shape not in shapes_GOES:\n",
    "            shapes_GOES[shape] = 1\n",
    "        else:\n",
    "            shapes_GOES[shape] += 1"
   ]
  },
  {
   "cell_type": "code",
   "execution_count": 32,
   "metadata": {},
   "outputs": [
    {
     "data": {
      "text/plain": [
       "{(86400, 43): 6559, (86401, 43): 1558, (67680, 43): 2}"
      ]
     },
     "execution_count": 32,
     "metadata": {},
     "output_type": "execute_result"
    }
   ],
   "source": [
    "shapes_GOES"
   ]
  },
  {
   "cell_type": "code",
   "execution_count": null,
   "metadata": {},
   "outputs": [
    {
     "name": "stdout",
     "output_type": "stream",
     "text": [
      "8119\n"
     ]
    }
   ],
   "source": [
    "shapes_GOES_dropna = {}\n",
    "for sybdir, dir, files in os.walk('goes/'):\n",
    "    print (len(files))\n",
    "    for file in files:\n",
    "        shape = (pd.read_csv('goes/'+str(file)).dropna(axis=1,how='all').shape)\n",
    "        if shape not in shapes_GOES_dropna:\n",
    "            shapes_GOES_dropna[shape] = 1\n",
    "        else:\n",
    "            shapes_GOES_dropna[shape] += 1\n",
    "            "
   ]
  },
  {
   "cell_type": "code",
   "execution_count": 35,
   "metadata": {},
   "outputs": [
    {
     "data": {
      "text/plain": [
       "{(86400, 5): 473,\n",
       " (86400, 9): 4245,\n",
       " (86401, 43): 510,\n",
       " (86400, 13): 535,\n",
       " (86400, 43): 1291,\n",
       " (86401, 13): 895,\n",
       " (86401, 1): 24,\n",
       " (86401, 9): 122,\n",
       " (86400, 1): 13,\n",
       " (67680, 13): 2,\n",
       " (86401, 5): 7,\n",
       " (86400, 11): 2}"
      ]
     },
     "execution_count": 35,
     "metadata": {},
     "output_type": "execute_result"
    }
   ],
   "source": [
    "shapes_GOES_dropna"
   ]
  }
 ],
 "metadata": {
  "kernelspec": {
   "display_name": "app_py_env",
   "language": "python",
   "name": "python3"
  },
  "language_info": {
   "codemirror_mode": {
    "name": "ipython",
    "version": 3
   },
   "file_extension": ".py",
   "mimetype": "text/x-python",
   "name": "python",
   "nbconvert_exporter": "python",
   "pygments_lexer": "ipython3",
   "version": "3.12.9"
  }
 },
 "nbformat": 4,
 "nbformat_minor": 2
}
