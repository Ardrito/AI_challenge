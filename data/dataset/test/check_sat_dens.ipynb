{
 "cells": [
  {
   "cell_type": "code",
   "execution_count": 1,
   "metadata": {},
   "outputs": [],
   "source": [
    "import matplotlib.pyplot as plt\n",
    "import numpy as np\n",
    "import pandas as pd\n",
    "import os"
   ]
  },
  {
   "cell_type": "code",
   "execution_count": 21,
   "metadata": {},
   "outputs": [
    {
     "name": "stdout",
     "output_type": "stream",
     "text": [
      "8119\n"
     ]
    },
    {
     "data": {
      "text/plain": [
       "['champ_-00006-20000811_to_20000814.csv',\n",
       " 'champ_-01127-20051001_to_20051004.csv',\n",
       " 'grace2-06177-20130808_to_20130811.csv',\n",
       " 'gr-of1-05033-20200207_to_20200210.csv',\n",
       " 'grace2-06594-20160401_to_20160404.csv',\n",
       " 'grace2-06459-20150513_to_20150516.csv',\n",
       " 'grace2-06114-20130226_to_20130301.csv',\n",
       " 'grace2-06517-20150927_to_20150930.csv',\n",
       " 'grace2-06053-20120925_to_20120928.csv',\n",
       " 'grace2-05884-20111116_to_20111119.csv',\n",
       " 'gr-of1-05035-20200208_to_20200211.csv',\n",
       " 'champ_-00121-20010319_to_20010322.csv',\n",
       " 'grace2-05887-20111213_to_20111216.csv',\n",
       " 'gr-of1-05034-20200207_to_20200210.csv',\n",
       " 'grace2-06322-20140626_to_20140629.csv',\n",
       " 'champ_-01255-20060418_to_20060421.csv']"
      ]
     },
     "execution_count": 21,
     "metadata": {},
     "output_type": "execute_result"
    }
   ],
   "source": [
    "shapes_DENS = {}\n",
    "testers = []\n",
    "for sybdir, dir, files in os.walk('sat_density/'):\n",
    "    print (len(files))\n",
    "    for file in files:\n",
    "        shape = (pd.read_csv('sat_density/'+str(file)).shape)\n",
    "        if shape[0] < 100:\n",
    "            testers.append(file)\n",
    "        if shape not in shapes_DENS:\n",
    "            shapes_DENS[shape] = 1\n",
    "        else:\n",
    "            shapes_DENS[shape] += 1\n",
    "\n",
    "testers"
   ]
  },
  {
   "cell_type": "code",
   "execution_count": null,
   "metadata": {},
   "outputs": [
    {
     "name": "stderr",
     "output_type": "stream",
     "text": [
      "/tmp/ipykernel_6404/2024418797.py:3: FutureWarning: 'T' is deprecated and will be removed in a future version, please use 'min' instead.\n",
      "  density_df = density_df.set_index('Timestamp').resample(rule='10T', offset=pd.Timedelta(minutes=5, seconds=5)).interpolate(method='time')\n"
     ]
    },
    {
     "data": {
      "application/vnd.microsoft.datawrangler.viewer.v0+json": {
       "columns": [
        {
         "name": "Timestamp",
         "rawType": "datetime64[ns]",
         "type": "datetime"
        },
        {
         "name": "Orbit Mean Density (kg/m^3)",
         "rawType": "float64",
         "type": "float"
        }
       ],
       "conversionMethod": "pd.DataFrame",
       "ref": "967b56b2-5f41-4603-b004-514205fc1e1f",
       "rows": [
        [
         "2006-04-18 19:05:05",
         "1.7308031216773712e-12"
        ],
        [
         "2006-04-18 19:15:05",
         "1.706461339671401e-12"
        ],
        [
         "2006-04-18 19:25:05",
         "1.7177894843320305e-12"
        ],
        [
         "2006-04-18 19:35:05",
         "1.7238059395834684e-12"
        ],
        [
         "2006-04-18 19:45:05",
         "1.725226899546824e-12"
        ],
        [
         "2006-04-18 19:55:05",
         "1.7268583324659598e-12"
        ],
        [
         "2006-04-18 20:05:05",
         "1.7176381957484042e-12"
        ],
        [
         "2006-04-18 20:15:05",
         "1.7280429913788782e-12"
        ],
        [
         "2006-04-18 20:25:05",
         "1.7496153138787529e-12"
        ],
        [
         "2006-04-18 20:35:05",
         "1.750636679718937e-12"
        ],
        [
         "2006-04-18 20:45:05",
         "1.7620678929093246e-12"
        ],
        [
         "2006-04-18 20:55:05",
         "1.7542479803493905e-12"
        ],
        [
         "2006-04-18 21:05:05",
         "1.7470100409757e-12"
        ],
        [
         "2006-04-18 21:15:05",
         "1.7456285434038133e-12"
        ],
        [
         "2006-04-18 21:25:05",
         "1.7473810686959517e-12"
        ],
        [
         "2006-04-18 21:35:05",
         "1.7421934945576345e-12"
        ],
        [
         "2006-04-18 21:45:05",
         "1.75152309785387e-12"
        ],
        [
         "2006-04-18 21:55:05",
         "1.7495226989817465e-12"
        ],
        [
         "2006-04-18 22:05:05",
         "1.739784037775159e-12"
        ],
        [
         "2006-04-18 22:15:05",
         "1.7511915228937417e-12"
        ],
        [
         "2006-04-18 22:25:05",
         "1.7541056862287048e-12"
        ],
        [
         "2006-04-18 22:35:05",
         "1.727547274635739e-12"
        ],
        [
         "2006-04-18 22:45:05",
         "1.7203308163429645e-12"
        ],
        [
         "2006-04-18 22:55:05",
         "1.7203967652838289e-12"
        ],
        [
         "2006-04-18 23:05:05",
         "1.7241686177891345e-12"
        ],
        [
         "2006-04-18 23:15:05",
         "9.99e+32"
        ],
        [
         "2006-04-18 23:25:05",
         "9.99e+32"
        ],
        [
         "2006-04-18 23:35:05",
         "9.99e+32"
        ],
        [
         "2006-04-18 23:45:05",
         "9.99e+32"
        ],
        [
         "2006-04-18 23:55:05",
         "9.99e+32"
        ]
       ],
       "shape": {
        "columns": 1,
        "rows": 30
       }
      },
      "text/html": [
       "<div>\n",
       "<style scoped>\n",
       "    .dataframe tbody tr th:only-of-type {\n",
       "        vertical-align: middle;\n",
       "    }\n",
       "\n",
       "    .dataframe tbody tr th {\n",
       "        vertical-align: top;\n",
       "    }\n",
       "\n",
       "    .dataframe thead th {\n",
       "        text-align: right;\n",
       "    }\n",
       "</style>\n",
       "<table border=\"1\" class=\"dataframe\">\n",
       "  <thead>\n",
       "    <tr style=\"text-align: right;\">\n",
       "      <th></th>\n",
       "      <th>Orbit Mean Density (kg/m^3)</th>\n",
       "    </tr>\n",
       "    <tr>\n",
       "      <th>Timestamp</th>\n",
       "      <th></th>\n",
       "    </tr>\n",
       "  </thead>\n",
       "  <tbody>\n",
       "    <tr>\n",
       "      <th>2006-04-18 19:05:05</th>\n",
       "      <td>1.730803e-12</td>\n",
       "    </tr>\n",
       "    <tr>\n",
       "      <th>2006-04-18 19:15:05</th>\n",
       "      <td>1.706461e-12</td>\n",
       "    </tr>\n",
       "    <tr>\n",
       "      <th>2006-04-18 19:25:05</th>\n",
       "      <td>1.717789e-12</td>\n",
       "    </tr>\n",
       "    <tr>\n",
       "      <th>2006-04-18 19:35:05</th>\n",
       "      <td>1.723806e-12</td>\n",
       "    </tr>\n",
       "    <tr>\n",
       "      <th>2006-04-18 19:45:05</th>\n",
       "      <td>1.725227e-12</td>\n",
       "    </tr>\n",
       "    <tr>\n",
       "      <th>2006-04-18 19:55:05</th>\n",
       "      <td>1.726858e-12</td>\n",
       "    </tr>\n",
       "    <tr>\n",
       "      <th>2006-04-18 20:05:05</th>\n",
       "      <td>1.717638e-12</td>\n",
       "    </tr>\n",
       "    <tr>\n",
       "      <th>2006-04-18 20:15:05</th>\n",
       "      <td>1.728043e-12</td>\n",
       "    </tr>\n",
       "    <tr>\n",
       "      <th>2006-04-18 20:25:05</th>\n",
       "      <td>1.749615e-12</td>\n",
       "    </tr>\n",
       "    <tr>\n",
       "      <th>2006-04-18 20:35:05</th>\n",
       "      <td>1.750637e-12</td>\n",
       "    </tr>\n",
       "    <tr>\n",
       "      <th>2006-04-18 20:45:05</th>\n",
       "      <td>1.762068e-12</td>\n",
       "    </tr>\n",
       "    <tr>\n",
       "      <th>2006-04-18 20:55:05</th>\n",
       "      <td>1.754248e-12</td>\n",
       "    </tr>\n",
       "    <tr>\n",
       "      <th>2006-04-18 21:05:05</th>\n",
       "      <td>1.747010e-12</td>\n",
       "    </tr>\n",
       "    <tr>\n",
       "      <th>2006-04-18 21:15:05</th>\n",
       "      <td>1.745629e-12</td>\n",
       "    </tr>\n",
       "    <tr>\n",
       "      <th>2006-04-18 21:25:05</th>\n",
       "      <td>1.747381e-12</td>\n",
       "    </tr>\n",
       "    <tr>\n",
       "      <th>2006-04-18 21:35:05</th>\n",
       "      <td>1.742193e-12</td>\n",
       "    </tr>\n",
       "    <tr>\n",
       "      <th>2006-04-18 21:45:05</th>\n",
       "      <td>1.751523e-12</td>\n",
       "    </tr>\n",
       "    <tr>\n",
       "      <th>2006-04-18 21:55:05</th>\n",
       "      <td>1.749523e-12</td>\n",
       "    </tr>\n",
       "    <tr>\n",
       "      <th>2006-04-18 22:05:05</th>\n",
       "      <td>1.739784e-12</td>\n",
       "    </tr>\n",
       "    <tr>\n",
       "      <th>2006-04-18 22:15:05</th>\n",
       "      <td>1.751192e-12</td>\n",
       "    </tr>\n",
       "    <tr>\n",
       "      <th>2006-04-18 22:25:05</th>\n",
       "      <td>1.754106e-12</td>\n",
       "    </tr>\n",
       "    <tr>\n",
       "      <th>2006-04-18 22:35:05</th>\n",
       "      <td>1.727547e-12</td>\n",
       "    </tr>\n",
       "    <tr>\n",
       "      <th>2006-04-18 22:45:05</th>\n",
       "      <td>1.720331e-12</td>\n",
       "    </tr>\n",
       "    <tr>\n",
       "      <th>2006-04-18 22:55:05</th>\n",
       "      <td>1.720397e-12</td>\n",
       "    </tr>\n",
       "    <tr>\n",
       "      <th>2006-04-18 23:05:05</th>\n",
       "      <td>1.724169e-12</td>\n",
       "    </tr>\n",
       "    <tr>\n",
       "      <th>2006-04-18 23:15:05</th>\n",
       "      <td>9.990000e+32</td>\n",
       "    </tr>\n",
       "    <tr>\n",
       "      <th>2006-04-18 23:25:05</th>\n",
       "      <td>9.990000e+32</td>\n",
       "    </tr>\n",
       "    <tr>\n",
       "      <th>2006-04-18 23:35:05</th>\n",
       "      <td>9.990000e+32</td>\n",
       "    </tr>\n",
       "    <tr>\n",
       "      <th>2006-04-18 23:45:05</th>\n",
       "      <td>9.990000e+32</td>\n",
       "    </tr>\n",
       "    <tr>\n",
       "      <th>2006-04-18 23:55:05</th>\n",
       "      <td>9.990000e+32</td>\n",
       "    </tr>\n",
       "  </tbody>\n",
       "</table>\n",
       "</div>"
      ],
      "text/plain": [
       "                     Orbit Mean Density (kg/m^3)\n",
       "Timestamp                                       \n",
       "2006-04-18 19:05:05                 1.730803e-12\n",
       "2006-04-18 19:15:05                 1.706461e-12\n",
       "2006-04-18 19:25:05                 1.717789e-12\n",
       "2006-04-18 19:35:05                 1.723806e-12\n",
       "2006-04-18 19:45:05                 1.725227e-12\n",
       "2006-04-18 19:55:05                 1.726858e-12\n",
       "2006-04-18 20:05:05                 1.717638e-12\n",
       "2006-04-18 20:15:05                 1.728043e-12\n",
       "2006-04-18 20:25:05                 1.749615e-12\n",
       "2006-04-18 20:35:05                 1.750637e-12\n",
       "2006-04-18 20:45:05                 1.762068e-12\n",
       "2006-04-18 20:55:05                 1.754248e-12\n",
       "2006-04-18 21:05:05                 1.747010e-12\n",
       "2006-04-18 21:15:05                 1.745629e-12\n",
       "2006-04-18 21:25:05                 1.747381e-12\n",
       "2006-04-18 21:35:05                 1.742193e-12\n",
       "2006-04-18 21:45:05                 1.751523e-12\n",
       "2006-04-18 21:55:05                 1.749523e-12\n",
       "2006-04-18 22:05:05                 1.739784e-12\n",
       "2006-04-18 22:15:05                 1.751192e-12\n",
       "2006-04-18 22:25:05                 1.754106e-12\n",
       "2006-04-18 22:35:05                 1.727547e-12\n",
       "2006-04-18 22:45:05                 1.720331e-12\n",
       "2006-04-18 22:55:05                 1.720397e-12\n",
       "2006-04-18 23:05:05                 1.724169e-12\n",
       "2006-04-18 23:15:05                 9.990000e+32\n",
       "2006-04-18 23:25:05                 9.990000e+32\n",
       "2006-04-18 23:35:05                 9.990000e+32\n",
       "2006-04-18 23:45:05                 9.990000e+32\n",
       "2006-04-18 23:55:05                 9.990000e+32"
      ]
     },
     "execution_count": 20,
     "metadata": {},
     "output_type": "execute_result"
    }
   ],
   "source": [
    "tester = 'champ_-01255-20060418_to_20060421.csv'\n",
    "density_df = pd.read_csv('sat_density/'+str(tester))\n",
    "density_df['Timestamp'] = pd.to_datetime(density_df['Timestamp'])\n",
    "density_df = density_df.set_index('Timestamp').resample(rule='10T', offset=pd.Timedelta(minutes=5, seconds=5)).interpolate(method='time')\n",
    "\n",
    "density_df"
   ]
  },
  {
   "cell_type": "code",
   "execution_count": 10,
   "metadata": {},
   "outputs": [
    {
     "data": {
      "text/plain": [
       "[(13, 2),\n",
       " (26, 2),\n",
       " (30, 2),\n",
       " (37, 2),\n",
       " (41, 2),\n",
       " (48, 2),\n",
       " (60, 2),\n",
       " (69, 2),\n",
       " (70, 2),\n",
       " (71, 2),\n",
       " (73, 2),\n",
       " (77, 2),\n",
       " (87, 2),\n",
       " (89, 2),\n",
       " (121, 2),\n",
       " (126, 2),\n",
       " (129, 2),\n",
       " (130, 2),\n",
       " (134, 2),\n",
       " (136, 2),\n",
       " (144, 2),\n",
       " (156, 2),\n",
       " (164, 2),\n",
       " (169, 2),\n",
       " (174, 2),\n",
       " (175, 2),\n",
       " (181, 2),\n",
       " (184, 2),\n",
       " (191, 2),\n",
       " (194, 2),\n",
       " (196, 2),\n",
       " (206, 2),\n",
       " (209, 2),\n",
       " (210, 2),\n",
       " (229, 2),\n",
       " (231, 2),\n",
       " (233, 2),\n",
       " (236, 2),\n",
       " (250, 2),\n",
       " (252, 2),\n",
       " (262, 2),\n",
       " (268, 2),\n",
       " (272, 2),\n",
       " (273, 2),\n",
       " (276, 2),\n",
       " (288, 2),\n",
       " (294, 2),\n",
       " (302, 2),\n",
       " (303, 2),\n",
       " (304, 2),\n",
       " (306, 2),\n",
       " (308, 2),\n",
       " (310, 2),\n",
       " (311, 2),\n",
       " (312, 2),\n",
       " (313, 2),\n",
       " (317, 2),\n",
       " (321, 2),\n",
       " (324, 2),\n",
       " (326, 2),\n",
       " (328, 2),\n",
       " (329, 2),\n",
       " (332, 2),\n",
       " (337, 2),\n",
       " (340, 2),\n",
       " (344, 2),\n",
       " (350, 2),\n",
       " (363, 2),\n",
       " (367, 2),\n",
       " (370, 2),\n",
       " (372, 2),\n",
       " (376, 2),\n",
       " (387, 2),\n",
       " (393, 2),\n",
       " (395, 2),\n",
       " (407, 2),\n",
       " (411, 2),\n",
       " (415, 2),\n",
       " (416, 2),\n",
       " (419, 2),\n",
       " (420, 2),\n",
       " (423, 2),\n",
       " (427, 2),\n",
       " (432, 2),\n",
       " (433, 2)]"
      ]
     },
     "execution_count": 10,
     "metadata": {},
     "output_type": "execute_result"
    }
   ],
   "source": [
    "shapes_DENS\n",
    "#len(shapes_DENS)\n",
    "smallest = 433\n",
    "for shape in shapes_DENS:\n",
    "    if shape[0] < smallest: smallest = shape[0]\n",
    "\n",
    "smallest\n",
    "\n",
    "sorted(shapes_DENS)"
   ]
  },
  {
   "cell_type": "code",
   "execution_count": 29,
   "metadata": {},
   "outputs": [
    {
     "name": "stdout",
     "output_type": "stream",
     "text": [
      "8119\n"
     ]
    }
   ],
   "source": [
    "shapes_OMNI = {}\n",
    "for sybdir, dir, files in os.walk('omni2/'):\n",
    "    print (len(files))\n",
    "    for file in files:\n",
    "        shape = (pd.read_csv('omni2/'+str(file)).shape)\n",
    "        if shape not in shapes_OMNI:\n",
    "            shapes_OMNI[shape] = 1\n",
    "        else:\n",
    "            shapes_OMNI[shape] += 1"
   ]
  },
  {
   "cell_type": "code",
   "execution_count": 16,
   "metadata": {},
   "outputs": [
    {
     "data": {
      "text/plain": [
       "{(1440, 58): 6672, (1441, 58): 1447}"
      ]
     },
     "execution_count": 16,
     "metadata": {},
     "output_type": "execute_result"
    }
   ],
   "source": [
    "shapes_OMNI"
   ]
  },
  {
   "cell_type": "code",
   "execution_count": 31,
   "metadata": {},
   "outputs": [
    {
     "name": "stdout",
     "output_type": "stream",
     "text": [
      "8119\n"
     ]
    }
   ],
   "source": [
    "shapes_GOES = {}\n",
    "for sybdir, dir, files in os.walk('goes/'):\n",
    "    print (len(files))\n",
    "    for file in files:\n",
    "        shape = (pd.read_csv('goes/'+str(file)).shape)\n",
    "        if shape not in shapes_GOES:\n",
    "            shapes_GOES[shape] = 1\n",
    "        else:\n",
    "            shapes_GOES[shape] += 1"
   ]
  },
  {
   "cell_type": "code",
   "execution_count": 32,
   "metadata": {},
   "outputs": [
    {
     "data": {
      "text/plain": [
       "{(86400, 43): 6559, (86401, 43): 1558, (67680, 43): 2}"
      ]
     },
     "execution_count": 32,
     "metadata": {},
     "output_type": "execute_result"
    }
   ],
   "source": [
    "shapes_GOES"
   ]
  },
  {
   "cell_type": "code",
   "execution_count": null,
   "metadata": {},
   "outputs": [
    {
     "name": "stdout",
     "output_type": "stream",
     "text": [
      "8119\n"
     ]
    }
   ],
   "source": [
    "shapes_GOES_dropna = {}\n",
    "for sybdir, dir, files in os.walk('goes/'):\n",
    "    print (len(files))\n",
    "    for file in files:\n",
    "        shape = (pd.read_csv('goes/'+str(file)).dropna(axis=1,how='all').shape)\n",
    "        if shape not in shapes_GOES_dropna:\n",
    "            shapes_GOES_dropna[shape] = 1\n",
    "        else:\n",
    "            shapes_GOES_dropna[shape] += 1\n",
    "            "
   ]
  },
  {
   "cell_type": "code",
   "execution_count": 35,
   "metadata": {},
   "outputs": [
    {
     "data": {
      "text/plain": [
       "{(86400, 5): 473,\n",
       " (86400, 9): 4245,\n",
       " (86401, 43): 510,\n",
       " (86400, 13): 535,\n",
       " (86400, 43): 1291,\n",
       " (86401, 13): 895,\n",
       " (86401, 1): 24,\n",
       " (86401, 9): 122,\n",
       " (86400, 1): 13,\n",
       " (67680, 13): 2,\n",
       " (86401, 5): 7,\n",
       " (86400, 11): 2}"
      ]
     },
     "execution_count": 35,
     "metadata": {},
     "output_type": "execute_result"
    }
   ],
   "source": [
    "shapes_GOES_dropna"
   ]
  }
 ],
 "metadata": {
  "kernelspec": {
   "display_name": "app_py_env",
   "language": "python",
   "name": "python3"
  },
  "language_info": {
   "codemirror_mode": {
    "name": "ipython",
    "version": 3
   },
   "file_extension": ".py",
   "mimetype": "text/x-python",
   "name": "python",
   "nbconvert_exporter": "python",
   "pygments_lexer": "ipython3",
   "version": "3.12.9"
  }
 },
 "nbformat": 4,
 "nbformat_minor": 2
}
