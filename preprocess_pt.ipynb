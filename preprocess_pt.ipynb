{
 "cells": [
  {
   "cell_type": "code",
   "execution_count": 2,
   "id": "262d95fa",
   "metadata": {},
   "outputs": [
    {
     "name": "stdout",
     "output_type": "stream",
     "text": [
      "📦 Processing and saving .pt files...\n"
     ]
    },
    {
     "name": "stderr",
     "output_type": "stream",
     "text": [
      "  0%|          | 0/8119 [00:00<?, ?it/s]"
     ]
    },
    {
     "name": "stderr",
     "output_type": "stream",
     "text": [
      "100%|██████████| 8119/8119 [41:56<00:00,  3.23it/s]  "
     ]
    },
    {
     "name": "stdout",
     "output_type": "stream",
     "text": [
      "\n",
      "✅ Processing complete. Saved .pt files in: data/processed/pt_files\n"
     ]
    },
    {
     "name": "stderr",
     "output_type": "stream",
     "text": [
      "\n"
     ]
    }
   ],
   "source": [
    "import os\n",
    "import pandas as pd\n",
    "import numpy as np\n",
    "import torch\n",
    "import glob\n",
    "import re\n",
    "from sklearn.preprocessing import normalize\n",
    "from tqdm import tqdm\n",
    "\n",
    "# ---------------------------\n",
    "# Directory Configuration\n",
    "# ---------------------------\n",
    "density_dir = 'data/dataset/test/sat_density'\n",
    "goes_dir = 'data/dataset/test/goes'\n",
    "omni2_dir = 'data/dataset/test/omni2'\n",
    "output_dir = 'data/processed/pt_files'\n",
    "os.makedirs(output_dir, exist_ok=True)\n",
    "\n",
    "density_length = 432\n",
    "goes_length = 86400\n",
    "omni2_length = 1440\n",
    "\n",
    "# ---------------------------\n",
    "# Utility Functions\n",
    "# ---------------------------\n",
    "def extract_file_id(filename):\n",
    "    match = re.search(r\"-(\\d{5})-\", filename)\n",
    "    return match.group(1) if match else None\n",
    "\n",
    "def pad_df(df, target_len, cols, pad_val=np.nan):\n",
    "    if df.shape[0] > target_len:\n",
    "        return df[:target_len]\n",
    "    elif df.shape[0] < target_len:\n",
    "        padding = pd.DataFrame(pad_val, index=range(target_len - df.shape[0]), columns=cols)\n",
    "        df = pd.concat([df, padding], ignore_index=True)\n",
    "    return df\n",
    "\n",
    "# ---------------------------\n",
    "# Main Conversion Loop\n",
    "# ---------------------------\n",
    "print(\"📦 Processing and saving .pt files...\")\n",
    "failed_ids = []\n",
    "\n",
    "for density_file in tqdm(glob.glob(os.path.join(density_dir, \"*.csv\"))):\n",
    "    file_id = extract_file_id(os.path.basename(density_file))\n",
    "\n",
    "    if not file_id or not file_id.isdigit():\n",
    "        print(f\"⚠️ Skipping malformed file name: {os.path.basename(density_file)}\")\n",
    "        continue\n",
    "\n",
    "    pt_path = os.path.join(output_dir, f\"{file_id}.pt\")\n",
    "    if os.path.exists(pt_path):\n",
    "        continue  # Already processed\n",
    "\n",
    "    try:\n",
    "        # -----------------\n",
    "        # Density\n",
    "        # -----------------\n",
    "        density_df = pd.read_csv(density_file)\n",
    "        density_df['Orbit Mean Density (kg/m^3)'] = np.where(\n",
    "            density_df['Orbit Mean Density (kg/m^3)'] >= 1,\n",
    "            np.nan,\n",
    "            density_df['Orbit Mean Density (kg/m^3)']\n",
    "        )\n",
    "        density_df = pad_df(density_df, density_length, density_df.columns)\n",
    "        density_tensor = torch.tensor(density_df['Orbit Mean Density (kg/m^3)'].fillna(0.0).values, dtype=torch.float32)\n",
    "        density_mask = torch.tensor(pd.notnull(density_df['Orbit Mean Density (kg/m^3)']).astype(float).values, dtype=torch.float32)\n",
    "\n",
    "        # -----------------\n",
    "        # GOES\n",
    "        # -----------------\n",
    "        goes_match = glob.glob(os.path.join(goes_dir, f\"*-{file_id}-*.csv\"))\n",
    "        if not goes_match:\n",
    "            print(f\"⚠️ Missing GOES file for File ID {file_id}\")\n",
    "            failed_ids.append(file_id)\n",
    "            continue\n",
    "        goes_df = pd.read_csv(goes_match[0])\n",
    "        goes_df = pad_df(goes_df, goes_length, goes_df.columns)\n",
    "        goes_valid = ((goes_df['xrsa_flag'] == 0.0) & (goes_df['xrsb_flag'] == 0.0)).astype(int)\n",
    "        goes_mask = (~pd.isnull(goes_df)).astype(int).mul(goes_valid.values, axis=0)\n",
    "        goes_tensor = torch.tensor(normalize(goes_df.iloc[:, 1:].fillna(0.0).values, norm='l2'), dtype=torch.float32)\n",
    "        goes_mask_tensor = torch.tensor(goes_mask.iloc[:, 1:].values, dtype=torch.float32)\n",
    "\n",
    "        # -----------------\n",
    "        # OMNI2\n",
    "        # -----------------\n",
    "        omni2_match = glob.glob(os.path.join(omni2_dir, f\"*-{file_id}-*.csv\"))\n",
    "        if not omni2_match:\n",
    "            print(f\"⚠️ Missing OMNI2 file for File ID {file_id}\")\n",
    "            failed_ids.append(file_id)\n",
    "            continue\n",
    "        omni2_df = pd.read_csv(omni2_match[0])\n",
    "        omni2_df = pad_df(omni2_df, omni2_length, omni2_df.columns)\n",
    "        omni2_tensor = torch.tensor(normalize(omni2_df.iloc[:, :57].fillna(0.0).values.astype(float), norm='l2'), dtype=torch.float32)\n",
    "        omni2_mask_tensor = torch.tensor((~pd.isnull(omni2_df.iloc[:, :57])).astype(float).values, dtype=torch.float32)\n",
    "\n",
    "        # -----------------\n",
    "        # Save to .pt\n",
    "        # -----------------\n",
    "        data_dict = {\n",
    "            \"file_id\": file_id,\n",
    "            \"density\": density_tensor,\n",
    "            \"density_mask\": density_mask,\n",
    "            \"goes\": goes_tensor,\n",
    "            \"goes_mask\": goes_mask_tensor,\n",
    "            \"omni2\": omni2_tensor,\n",
    "            \"omni2_mask\": omni2_mask_tensor\n",
    "        }\n",
    "\n",
    "        torch.save(data_dict, pt_path)\n",
    "\n",
    "    except Exception as e:\n",
    "        print(f\"❌ Error processing File ID {file_id}: {e}\")\n",
    "        failed_ids.append(file_id)\n",
    "\n",
    "# ---------------------------\n",
    "# Done\n",
    "# ---------------------------\n",
    "print(f\"\\n✅ Processing complete. Saved .pt files in: {output_dir}\")\n",
    "if failed_ids:\n",
    "    print(f\"\\n❌ {len(failed_ids)} files failed:\")\n",
    "    for fid in failed_ids:\n",
    "        print(f\" - {fid}\")\n"
   ]
  }
 ],
 "metadata": {
  "kernelspec": {
   "display_name": "py_torch",
   "language": "python",
   "name": "python3"
  },
  "language_info": {
   "codemirror_mode": {
    "name": "ipython",
    "version": 3
   },
   "file_extension": ".py",
   "mimetype": "text/x-python",
   "name": "python",
   "nbconvert_exporter": "python",
   "pygments_lexer": "ipython3",
   "version": "3.13.2"
  }
 },
 "nbformat": 4,
 "nbformat_minor": 5
}
